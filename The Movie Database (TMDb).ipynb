{
 "cells": [
  {
   "cell_type": "markdown",
   "id": "variable-pepper",
   "metadata": {},
   "source": [
    "# Project : The Movie Database (TMDb)\n",
    "\n",
    "## Table of Contents \n",
    "\n",
    "<ul>\n",
    "    <li><a href=\"#intro\">Introduction</a></li>\n",
    "    <li><a href=\"#wrangling\">Data Wrangling</a></li>\n",
    "    <li><a href=\"#eda\">Exploratory Data Analysis</a></li>\n",
    "    <li><a href=\"#conclusions\">Conclusions</a></li>\n",
    "</ul>\n",
    "    "
   ]
  },
  {
   "cell_type": "markdown",
   "id": "light-superintendent",
   "metadata": {},
   "source": [
    "# Introduction\n",
    "\n",
    "<ul>\n",
    "    <li>Our data set contains information about 10 thousand movies collected from The Movie Database (TMDb), including user rating ,budgets ,and revenues . It consists of 21 columns.</li></ul>\n",
    "    \n",
    "## There are some questions that we can answer from analysis\n",
    "\n",
    "    1- Movies Which had most and least profit.\n",
    "    2- Movies with largest and lowest budget.\n",
    "    3- Movies with largest and lowest runtime.\n",
    "    4- Movies which had most and least revenue.\n",
    "    5- Average run time for movies.\n",
    "    6- In which year we had most number of profitable movies?\n",
    "    \n",
    "### Respecting to the profitable movies (dependent variable)\n",
    "    \n",
    "    1- Successful genres.\n",
    "    2- Most frequent cast.\n",
    "    3- Average budget and average revenue.\n",
    "    4- Average duration of the movie.\n",
    "    \n",
    "\n",
    "     \n",
    "        "
   ]
  },
  {
   "cell_type": "code",
   "execution_count": 1,
   "id": "christian-entry",
   "metadata": {},
   "outputs": [],
   "source": [
    "import pandas as pd\n",
    "import numpy as np\n",
    "import matplotlib.pyplot as plt\n",
    "%matplotlib inline"
   ]
  },
  {
   "cell_type": "markdown",
   "id": "technical-analysis",
   "metadata": {},
   "source": [
    "## Data Wrangling\n",
    "- We observed that no unit of currency mentioned in data set , so that we will consider dollar is default currency.\n",
    "\n",
    "### Gathering Data "
   ]
  },
  {
   "cell_type": "code",
   "execution_count": 2,
   "id": "cooperative-starter",
   "metadata": {},
   "outputs": [
    {
     "data": {
      "text/html": [
       "<div>\n",
       "<style scoped>\n",
       "    .dataframe tbody tr th:only-of-type {\n",
       "        vertical-align: middle;\n",
       "    }\n",
       "\n",
       "    .dataframe tbody tr th {\n",
       "        vertical-align: top;\n",
       "    }\n",
       "\n",
       "    .dataframe thead th {\n",
       "        text-align: right;\n",
       "    }\n",
       "</style>\n",
       "<table border=\"1\" class=\"dataframe\">\n",
       "  <thead>\n",
       "    <tr style=\"text-align: right;\">\n",
       "      <th></th>\n",
       "      <th>id</th>\n",
       "      <th>imdb_id</th>\n",
       "      <th>popularity</th>\n",
       "      <th>budget</th>\n",
       "      <th>revenue</th>\n",
       "      <th>original_title</th>\n",
       "      <th>cast</th>\n",
       "      <th>homepage</th>\n",
       "      <th>director</th>\n",
       "      <th>tagline</th>\n",
       "      <th>...</th>\n",
       "      <th>overview</th>\n",
       "      <th>runtime</th>\n",
       "      <th>genres</th>\n",
       "      <th>production_companies</th>\n",
       "      <th>release_date</th>\n",
       "      <th>vote_count</th>\n",
       "      <th>vote_average</th>\n",
       "      <th>release_year</th>\n",
       "      <th>budget_adj</th>\n",
       "      <th>revenue_adj</th>\n",
       "    </tr>\n",
       "  </thead>\n",
       "  <tbody>\n",
       "    <tr>\n",
       "      <th>0</th>\n",
       "      <td>135397</td>\n",
       "      <td>tt0369610</td>\n",
       "      <td>32.985763</td>\n",
       "      <td>150000000</td>\n",
       "      <td>1513528810</td>\n",
       "      <td>Jurassic World</td>\n",
       "      <td>Chris Pratt|Bryce Dallas Howard|Irrfan Khan|Vi...</td>\n",
       "      <td>http://www.jurassicworld.com/</td>\n",
       "      <td>Colin Trevorrow</td>\n",
       "      <td>The park is open.</td>\n",
       "      <td>...</td>\n",
       "      <td>Twenty-two years after the events of Jurassic ...</td>\n",
       "      <td>124</td>\n",
       "      <td>Action|Adventure|Science Fiction|Thriller</td>\n",
       "      <td>Universal Studios|Amblin Entertainment|Legenda...</td>\n",
       "      <td>6/9/15</td>\n",
       "      <td>5562</td>\n",
       "      <td>6.5</td>\n",
       "      <td>2015</td>\n",
       "      <td>1.379999e+08</td>\n",
       "      <td>1.392446e+09</td>\n",
       "    </tr>\n",
       "    <tr>\n",
       "      <th>1</th>\n",
       "      <td>76341</td>\n",
       "      <td>tt1392190</td>\n",
       "      <td>28.419936</td>\n",
       "      <td>150000000</td>\n",
       "      <td>378436354</td>\n",
       "      <td>Mad Max: Fury Road</td>\n",
       "      <td>Tom Hardy|Charlize Theron|Hugh Keays-Byrne|Nic...</td>\n",
       "      <td>http://www.madmaxmovie.com/</td>\n",
       "      <td>George Miller</td>\n",
       "      <td>What a Lovely Day.</td>\n",
       "      <td>...</td>\n",
       "      <td>An apocalyptic story set in the furthest reach...</td>\n",
       "      <td>120</td>\n",
       "      <td>Action|Adventure|Science Fiction|Thriller</td>\n",
       "      <td>Village Roadshow Pictures|Kennedy Miller Produ...</td>\n",
       "      <td>5/13/15</td>\n",
       "      <td>6185</td>\n",
       "      <td>7.1</td>\n",
       "      <td>2015</td>\n",
       "      <td>1.379999e+08</td>\n",
       "      <td>3.481613e+08</td>\n",
       "    </tr>\n",
       "    <tr>\n",
       "      <th>2</th>\n",
       "      <td>262500</td>\n",
       "      <td>tt2908446</td>\n",
       "      <td>13.112507</td>\n",
       "      <td>110000000</td>\n",
       "      <td>295238201</td>\n",
       "      <td>Insurgent</td>\n",
       "      <td>Shailene Woodley|Theo James|Kate Winslet|Ansel...</td>\n",
       "      <td>http://www.thedivergentseries.movie/#insurgent</td>\n",
       "      <td>Robert Schwentke</td>\n",
       "      <td>One Choice Can Destroy You</td>\n",
       "      <td>...</td>\n",
       "      <td>Beatrice Prior must confront her inner demons ...</td>\n",
       "      <td>119</td>\n",
       "      <td>Adventure|Science Fiction|Thriller</td>\n",
       "      <td>Summit Entertainment|Mandeville Films|Red Wago...</td>\n",
       "      <td>3/18/15</td>\n",
       "      <td>2480</td>\n",
       "      <td>6.3</td>\n",
       "      <td>2015</td>\n",
       "      <td>1.012000e+08</td>\n",
       "      <td>2.716190e+08</td>\n",
       "    </tr>\n",
       "    <tr>\n",
       "      <th>3</th>\n",
       "      <td>140607</td>\n",
       "      <td>tt2488496</td>\n",
       "      <td>11.173104</td>\n",
       "      <td>200000000</td>\n",
       "      <td>2068178225</td>\n",
       "      <td>Star Wars: The Force Awakens</td>\n",
       "      <td>Harrison Ford|Mark Hamill|Carrie Fisher|Adam D...</td>\n",
       "      <td>http://www.starwars.com/films/star-wars-episod...</td>\n",
       "      <td>J.J. Abrams</td>\n",
       "      <td>Every generation has a story.</td>\n",
       "      <td>...</td>\n",
       "      <td>Thirty years after defeating the Galactic Empi...</td>\n",
       "      <td>136</td>\n",
       "      <td>Action|Adventure|Science Fiction|Fantasy</td>\n",
       "      <td>Lucasfilm|Truenorth Productions|Bad Robot</td>\n",
       "      <td>12/15/15</td>\n",
       "      <td>5292</td>\n",
       "      <td>7.5</td>\n",
       "      <td>2015</td>\n",
       "      <td>1.839999e+08</td>\n",
       "      <td>1.902723e+09</td>\n",
       "    </tr>\n",
       "    <tr>\n",
       "      <th>4</th>\n",
       "      <td>168259</td>\n",
       "      <td>tt2820852</td>\n",
       "      <td>9.335014</td>\n",
       "      <td>190000000</td>\n",
       "      <td>1506249360</td>\n",
       "      <td>Furious 7</td>\n",
       "      <td>Vin Diesel|Paul Walker|Jason Statham|Michelle ...</td>\n",
       "      <td>http://www.furious7.com/</td>\n",
       "      <td>James Wan</td>\n",
       "      <td>Vengeance Hits Home</td>\n",
       "      <td>...</td>\n",
       "      <td>Deckard Shaw seeks revenge against Dominic Tor...</td>\n",
       "      <td>137</td>\n",
       "      <td>Action|Crime|Thriller</td>\n",
       "      <td>Universal Pictures|Original Film|Media Rights ...</td>\n",
       "      <td>4/1/15</td>\n",
       "      <td>2947</td>\n",
       "      <td>7.3</td>\n",
       "      <td>2015</td>\n",
       "      <td>1.747999e+08</td>\n",
       "      <td>1.385749e+09</td>\n",
       "    </tr>\n",
       "  </tbody>\n",
       "</table>\n",
       "<p>5 rows × 21 columns</p>\n",
       "</div>"
      ],
      "text/plain": [
       "       id    imdb_id  popularity     budget     revenue  \\\n",
       "0  135397  tt0369610   32.985763  150000000  1513528810   \n",
       "1   76341  tt1392190   28.419936  150000000   378436354   \n",
       "2  262500  tt2908446   13.112507  110000000   295238201   \n",
       "3  140607  tt2488496   11.173104  200000000  2068178225   \n",
       "4  168259  tt2820852    9.335014  190000000  1506249360   \n",
       "\n",
       "                 original_title  \\\n",
       "0                Jurassic World   \n",
       "1            Mad Max: Fury Road   \n",
       "2                     Insurgent   \n",
       "3  Star Wars: The Force Awakens   \n",
       "4                     Furious 7   \n",
       "\n",
       "                                                cast  \\\n",
       "0  Chris Pratt|Bryce Dallas Howard|Irrfan Khan|Vi...   \n",
       "1  Tom Hardy|Charlize Theron|Hugh Keays-Byrne|Nic...   \n",
       "2  Shailene Woodley|Theo James|Kate Winslet|Ansel...   \n",
       "3  Harrison Ford|Mark Hamill|Carrie Fisher|Adam D...   \n",
       "4  Vin Diesel|Paul Walker|Jason Statham|Michelle ...   \n",
       "\n",
       "                                            homepage          director  \\\n",
       "0                      http://www.jurassicworld.com/   Colin Trevorrow   \n",
       "1                        http://www.madmaxmovie.com/     George Miller   \n",
       "2     http://www.thedivergentseries.movie/#insurgent  Robert Schwentke   \n",
       "3  http://www.starwars.com/films/star-wars-episod...       J.J. Abrams   \n",
       "4                           http://www.furious7.com/         James Wan   \n",
       "\n",
       "                         tagline  ...  \\\n",
       "0              The park is open.  ...   \n",
       "1             What a Lovely Day.  ...   \n",
       "2     One Choice Can Destroy You  ...   \n",
       "3  Every generation has a story.  ...   \n",
       "4            Vengeance Hits Home  ...   \n",
       "\n",
       "                                            overview runtime  \\\n",
       "0  Twenty-two years after the events of Jurassic ...     124   \n",
       "1  An apocalyptic story set in the furthest reach...     120   \n",
       "2  Beatrice Prior must confront her inner demons ...     119   \n",
       "3  Thirty years after defeating the Galactic Empi...     136   \n",
       "4  Deckard Shaw seeks revenge against Dominic Tor...     137   \n",
       "\n",
       "                                      genres  \\\n",
       "0  Action|Adventure|Science Fiction|Thriller   \n",
       "1  Action|Adventure|Science Fiction|Thriller   \n",
       "2         Adventure|Science Fiction|Thriller   \n",
       "3   Action|Adventure|Science Fiction|Fantasy   \n",
       "4                      Action|Crime|Thriller   \n",
       "\n",
       "                                production_companies release_date vote_count  \\\n",
       "0  Universal Studios|Amblin Entertainment|Legenda...       6/9/15       5562   \n",
       "1  Village Roadshow Pictures|Kennedy Miller Produ...      5/13/15       6185   \n",
       "2  Summit Entertainment|Mandeville Films|Red Wago...      3/18/15       2480   \n",
       "3          Lucasfilm|Truenorth Productions|Bad Robot     12/15/15       5292   \n",
       "4  Universal Pictures|Original Film|Media Rights ...       4/1/15       2947   \n",
       "\n",
       "   vote_average  release_year    budget_adj   revenue_adj  \n",
       "0           6.5          2015  1.379999e+08  1.392446e+09  \n",
       "1           7.1          2015  1.379999e+08  3.481613e+08  \n",
       "2           6.3          2015  1.012000e+08  2.716190e+08  \n",
       "3           7.5          2015  1.839999e+08  1.902723e+09  \n",
       "4           7.3          2015  1.747999e+08  1.385749e+09  \n",
       "\n",
       "[5 rows x 21 columns]"
      ]
     },
     "execution_count": 2,
     "metadata": {},
     "output_type": "execute_result"
    }
   ],
   "source": [
    "df = pd.read_csv(\"tmdb-movies.csv\")\n",
    "df.head()"
   ]
  },
  {
   "cell_type": "markdown",
   "id": "outstanding-relief",
   "metadata": {},
   "source": [
    "### Assesing Data "
   ]
  },
  {
   "cell_type": "code",
   "execution_count": 3,
   "id": "successful-session",
   "metadata": {},
   "outputs": [
    {
     "name": "stdout",
     "output_type": "stream",
     "text": [
      "<class 'pandas.core.frame.DataFrame'>\n",
      "RangeIndex: 10866 entries, 0 to 10865\n",
      "Data columns (total 21 columns):\n",
      " #   Column                Non-Null Count  Dtype  \n",
      "---  ------                --------------  -----  \n",
      " 0   id                    10866 non-null  int64  \n",
      " 1   imdb_id               10856 non-null  object \n",
      " 2   popularity            10866 non-null  float64\n",
      " 3   budget                10866 non-null  int64  \n",
      " 4   revenue               10866 non-null  int64  \n",
      " 5   original_title        10866 non-null  object \n",
      " 6   cast                  10790 non-null  object \n",
      " 7   homepage              2936 non-null   object \n",
      " 8   director              10822 non-null  object \n",
      " 9   tagline               8042 non-null   object \n",
      " 10  keywords              9373 non-null   object \n",
      " 11  overview              10862 non-null  object \n",
      " 12  runtime               10866 non-null  int64  \n",
      " 13  genres                10843 non-null  object \n",
      " 14  production_companies  9836 non-null   object \n",
      " 15  release_date          10866 non-null  object \n",
      " 16  vote_count            10866 non-null  int64  \n",
      " 17  vote_average          10866 non-null  float64\n",
      " 18  release_year          10866 non-null  int64  \n",
      " 19  budget_adj            10866 non-null  float64\n",
      " 20  revenue_adj           10866 non-null  float64\n",
      "dtypes: float64(4), int64(6), object(11)\n",
      "memory usage: 1.7+ MB\n"
     ]
    }
   ],
   "source": [
    "df.info()"
   ]
  },
  {
   "cell_type": "code",
   "execution_count": 4,
   "id": "romantic-active",
   "metadata": {},
   "outputs": [
    {
     "data": {
      "text/plain": [
       "id                         0\n",
       "imdb_id                   10\n",
       "popularity                 0\n",
       "budget                     0\n",
       "revenue                    0\n",
       "original_title             0\n",
       "cast                      76\n",
       "homepage                7930\n",
       "director                  44\n",
       "tagline                 2824\n",
       "keywords                1493\n",
       "overview                   4\n",
       "runtime                    0\n",
       "genres                    23\n",
       "production_companies    1030\n",
       "release_date               0\n",
       "vote_count                 0\n",
       "vote_average               0\n",
       "release_year               0\n",
       "budget_adj                 0\n",
       "revenue_adj                0\n",
       "dtype: int64"
      ]
     },
     "execution_count": 4,
     "metadata": {},
     "output_type": "execute_result"
    }
   ],
   "source": [
    "df.isnull().sum()"
   ]
  },
  {
   "cell_type": "code",
   "execution_count": 5,
   "id": "bored-publication",
   "metadata": {},
   "outputs": [
    {
     "data": {
      "text/plain": [
       "1"
      ]
     },
     "execution_count": 5,
     "metadata": {},
     "output_type": "execute_result"
    }
   ],
   "source": [
    "df.duplicated().sum()"
   ]
  },
  {
   "cell_type": "markdown",
   "id": "based-scale",
   "metadata": {},
   "source": [
    "## Data Cleaning\n",
    "\n",
    " - 1- Remove unimportant columns like ('id', 'imdb_id', 'popularity', 'homepage', 'keywords', 'overview', 'production_companies', 'vote_count', 'vote_average', 'budget_adj', 'revenue_adj').\n",
    " - 2- Remove duplicated rows.\n",
    " - 3- Some movies in the database have zero budget or zero revenue, that is there value has not been recorded so we will be discarding.\n",
    " - 4- Change release date to date format.\n",
    " - 5- Changing format of budget and revenue columns to int64."
   ]
  },
  {
   "cell_type": "markdown",
   "id": "adjacent-powell",
   "metadata": {},
   "source": [
    "#### 1- Remove unimportant columns like ('id', 'imdb_id', 'popularity', 'homepage', 'keywords', 'overview', 'production_companies', 'vote_count', 'vote_average', 'budget_adj', 'revenue_adj').\n"
   ]
  },
  {
   "cell_type": "code",
   "execution_count": 6,
   "id": "suspected-daisy",
   "metadata": {},
   "outputs": [
    {
     "data": {
      "text/html": [
       "<div>\n",
       "<style scoped>\n",
       "    .dataframe tbody tr th:only-of-type {\n",
       "        vertical-align: middle;\n",
       "    }\n",
       "\n",
       "    .dataframe tbody tr th {\n",
       "        vertical-align: top;\n",
       "    }\n",
       "\n",
       "    .dataframe thead th {\n",
       "        text-align: right;\n",
       "    }\n",
       "</style>\n",
       "<table border=\"1\" class=\"dataframe\">\n",
       "  <thead>\n",
       "    <tr style=\"text-align: right;\">\n",
       "      <th></th>\n",
       "      <th>budget</th>\n",
       "      <th>revenue</th>\n",
       "      <th>original_title</th>\n",
       "      <th>cast</th>\n",
       "      <th>director</th>\n",
       "      <th>tagline</th>\n",
       "      <th>runtime</th>\n",
       "      <th>genres</th>\n",
       "      <th>release_date</th>\n",
       "      <th>release_year</th>\n",
       "    </tr>\n",
       "  </thead>\n",
       "  <tbody>\n",
       "    <tr>\n",
       "      <th>0</th>\n",
       "      <td>150000000</td>\n",
       "      <td>1513528810</td>\n",
       "      <td>Jurassic World</td>\n",
       "      <td>Chris Pratt|Bryce Dallas Howard|Irrfan Khan|Vi...</td>\n",
       "      <td>Colin Trevorrow</td>\n",
       "      <td>The park is open.</td>\n",
       "      <td>124</td>\n",
       "      <td>Action|Adventure|Science Fiction|Thriller</td>\n",
       "      <td>6/9/15</td>\n",
       "      <td>2015</td>\n",
       "    </tr>\n",
       "    <tr>\n",
       "      <th>1</th>\n",
       "      <td>150000000</td>\n",
       "      <td>378436354</td>\n",
       "      <td>Mad Max: Fury Road</td>\n",
       "      <td>Tom Hardy|Charlize Theron|Hugh Keays-Byrne|Nic...</td>\n",
       "      <td>George Miller</td>\n",
       "      <td>What a Lovely Day.</td>\n",
       "      <td>120</td>\n",
       "      <td>Action|Adventure|Science Fiction|Thriller</td>\n",
       "      <td>5/13/15</td>\n",
       "      <td>2015</td>\n",
       "    </tr>\n",
       "  </tbody>\n",
       "</table>\n",
       "</div>"
      ],
      "text/plain": [
       "      budget     revenue      original_title  \\\n",
       "0  150000000  1513528810      Jurassic World   \n",
       "1  150000000   378436354  Mad Max: Fury Road   \n",
       "\n",
       "                                                cast         director  \\\n",
       "0  Chris Pratt|Bryce Dallas Howard|Irrfan Khan|Vi...  Colin Trevorrow   \n",
       "1  Tom Hardy|Charlize Theron|Hugh Keays-Byrne|Nic...    George Miller   \n",
       "\n",
       "              tagline  runtime                                     genres  \\\n",
       "0   The park is open.      124  Action|Adventure|Science Fiction|Thriller   \n",
       "1  What a Lovely Day.      120  Action|Adventure|Science Fiction|Thriller   \n",
       "\n",
       "  release_date  release_year  \n",
       "0       6/9/15          2015  \n",
       "1      5/13/15          2015  "
      ]
     },
     "execution_count": 6,
     "metadata": {},
     "output_type": "execute_result"
    }
   ],
   "source": [
    "deleted_col = ['id', 'imdb_id', 'popularity', 'homepage', 'keywords', 'overview', 'production_companies',\n",
    "        'vote_count', 'vote_average', 'budget_adj', 'revenue_adj']\n",
    "df.drop(deleted_col,axis=1,inplace=True)\n",
    "df.head(2)"
   ]
  },
  {
   "cell_type": "markdown",
   "id": "wicked-furniture",
   "metadata": {},
   "source": [
    "#### 2- Remove duplicate rows."
   ]
  },
  {
   "cell_type": "code",
   "execution_count": 7,
   "id": "conscious-killing",
   "metadata": {},
   "outputs": [
    {
     "data": {
      "text/plain": [
       "(10866, 10)"
      ]
     },
     "execution_count": 7,
     "metadata": {},
     "output_type": "execute_result"
    }
   ],
   "source": [
    "df.shape"
   ]
  },
  {
   "cell_type": "code",
   "execution_count": 8,
   "id": "cathedral-canon",
   "metadata": {},
   "outputs": [],
   "source": [
    "df.drop_duplicates(inplace = True)"
   ]
  },
  {
   "cell_type": "code",
   "execution_count": 9,
   "id": "conscious-married",
   "metadata": {},
   "outputs": [
    {
     "data": {
      "text/plain": [
       "(10865, 10)"
      ]
     },
     "execution_count": 9,
     "metadata": {},
     "output_type": "execute_result"
    }
   ],
   "source": [
    "df.shape"
   ]
  },
  {
   "cell_type": "markdown",
   "id": "verified-lighting",
   "metadata": {},
   "source": [
    "#### 3-  Some movies in the database have zero budget or zero revenue, that is there value has not been recorded so we will be discarding"
   ]
  },
  {
   "cell_type": "code",
   "execution_count": 10,
   "id": "electoral-acting",
   "metadata": {},
   "outputs": [],
   "source": [
    "#create separate list of revenue and budget\n",
    "zero_list = ['budget','revenue']\n",
    "#replace all 0 values by NAN in the list \n",
    "df[zero_list] = df[zero_list].replace(0,np.NAN)\n",
    "#Remove all NaN row values in budget and revenue list \n",
    "df.dropna(subset =zero_list,inplace = True )"
   ]
  },
  {
   "cell_type": "code",
   "execution_count": 11,
   "id": "million-discipline",
   "metadata": {},
   "outputs": [
    {
     "data": {
      "text/plain": [
       "(3854, 10)"
      ]
     },
     "execution_count": 11,
     "metadata": {},
     "output_type": "execute_result"
    }
   ],
   "source": [
    "df.shape"
   ]
  },
  {
   "cell_type": "markdown",
   "id": "honey-spread",
   "metadata": {},
   "source": [
    "#### 4- Change release date to date format."
   ]
  },
  {
   "cell_type": "code",
   "execution_count": 12,
   "id": "sudden-front",
   "metadata": {},
   "outputs": [
    {
     "name": "stdout",
     "output_type": "stream",
     "text": [
      "<class 'pandas.core.frame.DataFrame'>\n",
      "Int64Index: 3854 entries, 0 to 10848\n",
      "Data columns (total 10 columns):\n",
      " #   Column          Non-Null Count  Dtype  \n",
      "---  ------          --------------  -----  \n",
      " 0   budget          3854 non-null   float64\n",
      " 1   revenue         3854 non-null   float64\n",
      " 2   original_title  3854 non-null   object \n",
      " 3   cast            3850 non-null   object \n",
      " 4   director        3853 non-null   object \n",
      " 5   tagline         3574 non-null   object \n",
      " 6   runtime         3854 non-null   int64  \n",
      " 7   genres          3854 non-null   object \n",
      " 8   release_date    3854 non-null   object \n",
      " 9   release_year    3854 non-null   int64  \n",
      "dtypes: float64(2), int64(2), object(6)\n",
      "memory usage: 331.2+ KB\n"
     ]
    }
   ],
   "source": [
    "df.info()"
   ]
  },
  {
   "cell_type": "code",
   "execution_count": 13,
   "id": "frozen-healing",
   "metadata": {},
   "outputs": [
    {
     "data": {
      "text/plain": [
       "budget                   float64\n",
       "revenue                  float64\n",
       "original_title            object\n",
       "cast                      object\n",
       "director                  object\n",
       "tagline                   object\n",
       "runtime                    int64\n",
       "genres                    object\n",
       "release_date      datetime64[ns]\n",
       "release_year               int64\n",
       "dtype: object"
      ]
     },
     "execution_count": 13,
     "metadata": {},
     "output_type": "execute_result"
    }
   ],
   "source": [
    "df.release_date = pd.to_datetime(df['release_date'])\n",
    "df.dtypes\n"
   ]
  },
  {
   "cell_type": "markdown",
   "id": "competent-oklahoma",
   "metadata": {},
   "source": [
    "#### 5- Changing format of budget and revenue columns to int64."
   ]
  },
  {
   "cell_type": "code",
   "execution_count": 14,
   "id": "minor-tooth",
   "metadata": {},
   "outputs": [
    {
     "data": {
      "text/plain": [
       "budget                     int64\n",
       "revenue                    int64\n",
       "original_title            object\n",
       "cast                      object\n",
       "director                  object\n",
       "tagline                   object\n",
       "runtime                    int64\n",
       "genres                    object\n",
       "release_date      datetime64[ns]\n",
       "release_year               int64\n",
       "dtype: object"
      ]
     },
     "execution_count": 14,
     "metadata": {},
     "output_type": "execute_result"
    }
   ],
   "source": [
    "format_list = ['budget','revenue']\n",
    "df[format_list] = df[format_list].astype('int64')\n",
    "df.dtypes"
   ]
  },
  {
   "cell_type": "markdown",
   "id": "decimal-welcome",
   "metadata": {},
   "source": [
    "# Expolatory Data Analysis (EDA)\n",
    "\n",
    "### Calculate the profit of each movie"
   ]
  },
  {
   "cell_type": "code",
   "execution_count": 15,
   "id": "proof-poster",
   "metadata": {},
   "outputs": [
    {
     "data": {
      "text/html": [
       "<div>\n",
       "<style scoped>\n",
       "    .dataframe tbody tr th:only-of-type {\n",
       "        vertical-align: middle;\n",
       "    }\n",
       "\n",
       "    .dataframe tbody tr th {\n",
       "        vertical-align: top;\n",
       "    }\n",
       "\n",
       "    .dataframe thead th {\n",
       "        text-align: right;\n",
       "    }\n",
       "</style>\n",
       "<table border=\"1\" class=\"dataframe\">\n",
       "  <thead>\n",
       "    <tr style=\"text-align: right;\">\n",
       "      <th></th>\n",
       "      <th>budget</th>\n",
       "      <th>revenue</th>\n",
       "      <th>original_title</th>\n",
       "      <th>cast</th>\n",
       "      <th>director</th>\n",
       "      <th>tagline</th>\n",
       "      <th>runtime</th>\n",
       "      <th>genres</th>\n",
       "      <th>release_date</th>\n",
       "      <th>release_year</th>\n",
       "      <th>profit_earned</th>\n",
       "    </tr>\n",
       "  </thead>\n",
       "  <tbody>\n",
       "    <tr>\n",
       "      <th>0</th>\n",
       "      <td>150000000</td>\n",
       "      <td>1513528810</td>\n",
       "      <td>Jurassic World</td>\n",
       "      <td>Chris Pratt|Bryce Dallas Howard|Irrfan Khan|Vi...</td>\n",
       "      <td>Colin Trevorrow</td>\n",
       "      <td>The park is open.</td>\n",
       "      <td>124</td>\n",
       "      <td>Action|Adventure|Science Fiction|Thriller</td>\n",
       "      <td>2015-06-09</td>\n",
       "      <td>2015</td>\n",
       "      <td>1363528810</td>\n",
       "    </tr>\n",
       "    <tr>\n",
       "      <th>1</th>\n",
       "      <td>150000000</td>\n",
       "      <td>378436354</td>\n",
       "      <td>Mad Max: Fury Road</td>\n",
       "      <td>Tom Hardy|Charlize Theron|Hugh Keays-Byrne|Nic...</td>\n",
       "      <td>George Miller</td>\n",
       "      <td>What a Lovely Day.</td>\n",
       "      <td>120</td>\n",
       "      <td>Action|Adventure|Science Fiction|Thriller</td>\n",
       "      <td>2015-05-13</td>\n",
       "      <td>2015</td>\n",
       "      <td>228436354</td>\n",
       "    </tr>\n",
       "  </tbody>\n",
       "</table>\n",
       "</div>"
      ],
      "text/plain": [
       "      budget     revenue      original_title  \\\n",
       "0  150000000  1513528810      Jurassic World   \n",
       "1  150000000   378436354  Mad Max: Fury Road   \n",
       "\n",
       "                                                cast         director  \\\n",
       "0  Chris Pratt|Bryce Dallas Howard|Irrfan Khan|Vi...  Colin Trevorrow   \n",
       "1  Tom Hardy|Charlize Theron|Hugh Keays-Byrne|Nic...    George Miller   \n",
       "\n",
       "              tagline  runtime                                     genres  \\\n",
       "0   The park is open.      124  Action|Adventure|Science Fiction|Thriller   \n",
       "1  What a Lovely Day.      120  Action|Adventure|Science Fiction|Thriller   \n",
       "\n",
       "  release_date  release_year  profit_earned  \n",
       "0   2015-06-09          2015     1363528810  \n",
       "1   2015-05-13          2015      228436354  "
      ]
     },
     "execution_count": 15,
     "metadata": {},
     "output_type": "execute_result"
    }
   ],
   "source": [
    "df['profit_earned'] = df['revenue']-df['budget']\n",
    "df.head(2)"
   ]
  },
  {
   "cell_type": "markdown",
   "id": "following-tuition",
   "metadata": {},
   "source": [
    "### Research Question 1 : Movies which had most and least profit "
   ]
  },
  {
   "cell_type": "code",
   "execution_count": 16,
   "id": "legitimate-census",
   "metadata": {},
   "outputs": [
    {
     "data": {
      "text/html": [
       "<div>\n",
       "<style scoped>\n",
       "    .dataframe tbody tr th:only-of-type {\n",
       "        vertical-align: middle;\n",
       "    }\n",
       "\n",
       "    .dataframe tbody tr th {\n",
       "        vertical-align: top;\n",
       "    }\n",
       "\n",
       "    .dataframe thead th {\n",
       "        text-align: right;\n",
       "    }\n",
       "</style>\n",
       "<table border=\"1\" class=\"dataframe\">\n",
       "  <thead>\n",
       "    <tr style=\"text-align: right;\">\n",
       "      <th></th>\n",
       "      <th>2244</th>\n",
       "      <th>1386</th>\n",
       "    </tr>\n",
       "  </thead>\n",
       "  <tbody>\n",
       "    <tr>\n",
       "      <th>budget</th>\n",
       "      <td>425000000</td>\n",
       "      <td>237000000</td>\n",
       "    </tr>\n",
       "    <tr>\n",
       "      <th>revenue</th>\n",
       "      <td>11087569</td>\n",
       "      <td>2781505847</td>\n",
       "    </tr>\n",
       "    <tr>\n",
       "      <th>original_title</th>\n",
       "      <td>The Warrior's Way</td>\n",
       "      <td>Avatar</td>\n",
       "    </tr>\n",
       "    <tr>\n",
       "      <th>cast</th>\n",
       "      <td>Kate Bosworth|Jang Dong-gun|Geoffrey Rush|Dann...</td>\n",
       "      <td>Sam Worthington|Zoe Saldana|Sigourney Weaver|S...</td>\n",
       "    </tr>\n",
       "    <tr>\n",
       "      <th>director</th>\n",
       "      <td>Sngmoo Lee</td>\n",
       "      <td>James Cameron</td>\n",
       "    </tr>\n",
       "    <tr>\n",
       "      <th>tagline</th>\n",
       "      <td>Assassin. Hero. Legend.</td>\n",
       "      <td>Enter the World of Pandora.</td>\n",
       "    </tr>\n",
       "    <tr>\n",
       "      <th>runtime</th>\n",
       "      <td>100</td>\n",
       "      <td>162</td>\n",
       "    </tr>\n",
       "    <tr>\n",
       "      <th>genres</th>\n",
       "      <td>Adventure|Fantasy|Action|Western|Thriller</td>\n",
       "      <td>Action|Adventure|Fantasy|Science Fiction</td>\n",
       "    </tr>\n",
       "    <tr>\n",
       "      <th>release_date</th>\n",
       "      <td>2010-12-02 00:00:00</td>\n",
       "      <td>2009-12-10 00:00:00</td>\n",
       "    </tr>\n",
       "    <tr>\n",
       "      <th>release_year</th>\n",
       "      <td>2010</td>\n",
       "      <td>2009</td>\n",
       "    </tr>\n",
       "    <tr>\n",
       "      <th>profit_earned</th>\n",
       "      <td>-413912431</td>\n",
       "      <td>2544505847</td>\n",
       "    </tr>\n",
       "  </tbody>\n",
       "</table>\n",
       "</div>"
      ],
      "text/plain": [
       "                                                             2244  \\\n",
       "budget                                                  425000000   \n",
       "revenue                                                  11087569   \n",
       "original_title                                  The Warrior's Way   \n",
       "cast            Kate Bosworth|Jang Dong-gun|Geoffrey Rush|Dann...   \n",
       "director                                               Sngmoo Lee   \n",
       "tagline                                   Assassin. Hero. Legend.   \n",
       "runtime                                                       100   \n",
       "genres                  Adventure|Fantasy|Action|Western|Thriller   \n",
       "release_date                                  2010-12-02 00:00:00   \n",
       "release_year                                                 2010   \n",
       "profit_earned                                          -413912431   \n",
       "\n",
       "                                                             1386  \n",
       "budget                                                  237000000  \n",
       "revenue                                                2781505847  \n",
       "original_title                                             Avatar  \n",
       "cast            Sam Worthington|Zoe Saldana|Sigourney Weaver|S...  \n",
       "director                                            James Cameron  \n",
       "tagline                               Enter the World of Pandora.  \n",
       "runtime                                                       162  \n",
       "genres                   Action|Adventure|Fantasy|Science Fiction  \n",
       "release_date                                  2009-12-10 00:00:00  \n",
       "release_year                                                 2009  \n",
       "profit_earned                                          2544505847  "
      ]
     },
     "execution_count": 16,
     "metadata": {},
     "output_type": "execute_result"
    }
   ],
   "source": [
    "# I will create function to facilitate calculation of EDA\n",
    "def calculate(column):\n",
    "    #calculate max of profit_earned\n",
    "    max_ = df[column].idxmax()\n",
    "    max_profit = pd.DataFrame(df.loc[max_])\n",
    "    #calculate min of profit_earned\n",
    "    min_ = df[column].idxmin()\n",
    "    min_profit = pd.DataFrame(df.loc[min_])\n",
    "    #Concatenate tow dataframes\n",
    "    analysis = pd.concat([min_profit,max_profit], axis = 1)\n",
    "    return analysis\n",
    "\n",
    "#call function\n",
    "calculate('profit_earned')"
   ]
  },
  {
   "cell_type": "markdown",
   "id": "continent-young",
   "metadata": {},
   "source": [
    " - From this analysis we observed that columns with id 1386 shows max earned profit with 2544505847,\n",
    "  and column with id 2244 shows min earned profit with -413912431\n",
    " "
   ]
  },
  {
   "cell_type": "markdown",
   "id": "western-smell",
   "metadata": {},
   "source": [
    "### Research Question 2 : Movies with largest and lowest budget "
   ]
  },
  {
   "cell_type": "code",
   "execution_count": 17,
   "id": "reserved-commonwealth",
   "metadata": {},
   "outputs": [
    {
     "data": {
      "text/html": [
       "<div>\n",
       "<style scoped>\n",
       "    .dataframe tbody tr th:only-of-type {\n",
       "        vertical-align: middle;\n",
       "    }\n",
       "\n",
       "    .dataframe tbody tr th {\n",
       "        vertical-align: top;\n",
       "    }\n",
       "\n",
       "    .dataframe thead th {\n",
       "        text-align: right;\n",
       "    }\n",
       "</style>\n",
       "<table border=\"1\" class=\"dataframe\">\n",
       "  <thead>\n",
       "    <tr style=\"text-align: right;\">\n",
       "      <th></th>\n",
       "      <th>2618</th>\n",
       "      <th>2244</th>\n",
       "    </tr>\n",
       "  </thead>\n",
       "  <tbody>\n",
       "    <tr>\n",
       "      <th>budget</th>\n",
       "      <td>1</td>\n",
       "      <td>425000000</td>\n",
       "    </tr>\n",
       "    <tr>\n",
       "      <th>revenue</th>\n",
       "      <td>100</td>\n",
       "      <td>11087569</td>\n",
       "    </tr>\n",
       "    <tr>\n",
       "      <th>original_title</th>\n",
       "      <td>Lost &amp; Found</td>\n",
       "      <td>The Warrior's Way</td>\n",
       "    </tr>\n",
       "    <tr>\n",
       "      <th>cast</th>\n",
       "      <td>David Spade|Sophie Marceau|Ever Carradine|Step...</td>\n",
       "      <td>Kate Bosworth|Jang Dong-gun|Geoffrey Rush|Dann...</td>\n",
       "    </tr>\n",
       "    <tr>\n",
       "      <th>director</th>\n",
       "      <td>Jeff Pollack</td>\n",
       "      <td>Sngmoo Lee</td>\n",
       "    </tr>\n",
       "    <tr>\n",
       "      <th>tagline</th>\n",
       "      <td>A comedy about a guy who would do anything to ...</td>\n",
       "      <td>Assassin. Hero. Legend.</td>\n",
       "    </tr>\n",
       "    <tr>\n",
       "      <th>runtime</th>\n",
       "      <td>95</td>\n",
       "      <td>100</td>\n",
       "    </tr>\n",
       "    <tr>\n",
       "      <th>genres</th>\n",
       "      <td>Comedy|Romance</td>\n",
       "      <td>Adventure|Fantasy|Action|Western|Thriller</td>\n",
       "    </tr>\n",
       "    <tr>\n",
       "      <th>release_date</th>\n",
       "      <td>1999-04-23 00:00:00</td>\n",
       "      <td>2010-12-02 00:00:00</td>\n",
       "    </tr>\n",
       "    <tr>\n",
       "      <th>release_year</th>\n",
       "      <td>1999</td>\n",
       "      <td>2010</td>\n",
       "    </tr>\n",
       "    <tr>\n",
       "      <th>profit_earned</th>\n",
       "      <td>99</td>\n",
       "      <td>-413912431</td>\n",
       "    </tr>\n",
       "  </tbody>\n",
       "</table>\n",
       "</div>"
      ],
      "text/plain": [
       "                                                             2618  \\\n",
       "budget                                                          1   \n",
       "revenue                                                       100   \n",
       "original_title                                       Lost & Found   \n",
       "cast            David Spade|Sophie Marceau|Ever Carradine|Step...   \n",
       "director                                             Jeff Pollack   \n",
       "tagline         A comedy about a guy who would do anything to ...   \n",
       "runtime                                                        95   \n",
       "genres                                             Comedy|Romance   \n",
       "release_date                                  1999-04-23 00:00:00   \n",
       "release_year                                                 1999   \n",
       "profit_earned                                                  99   \n",
       "\n",
       "                                                             2244  \n",
       "budget                                                  425000000  \n",
       "revenue                                                  11087569  \n",
       "original_title                                  The Warrior's Way  \n",
       "cast            Kate Bosworth|Jang Dong-gun|Geoffrey Rush|Dann...  \n",
       "director                                               Sngmoo Lee  \n",
       "tagline                                   Assassin. Hero. Legend.  \n",
       "runtime                                                       100  \n",
       "genres                  Adventure|Fantasy|Action|Western|Thriller  \n",
       "release_date                                  2010-12-02 00:00:00  \n",
       "release_year                                                 2010  \n",
       "profit_earned                                          -413912431  "
      ]
     },
     "execution_count": 17,
     "metadata": {},
     "output_type": "execute_result"
    }
   ],
   "source": [
    "# use \"calculate(column)\" function do do this analysis\n",
    "calculate('budget')"
   ]
  },
  {
   "cell_type": "markdown",
   "id": "pacific-antique",
   "metadata": {},
   "source": [
    "- We observed that column with id 2244 shows largest budget with 425000000 dollar, and column with id 2618 shows lowest budget with 1 dollar"
   ]
  },
  {
   "cell_type": "markdown",
   "id": "raising-likelihood",
   "metadata": {},
   "source": [
    "### Research Question 3 : Movie with longest and shortest runtime"
   ]
  },
  {
   "cell_type": "code",
   "execution_count": 18,
   "id": "severe-january",
   "metadata": {},
   "outputs": [
    {
     "data": {
      "text/html": [
       "<div>\n",
       "<style scoped>\n",
       "    .dataframe tbody tr th:only-of-type {\n",
       "        vertical-align: middle;\n",
       "    }\n",
       "\n",
       "    .dataframe tbody tr th {\n",
       "        vertical-align: top;\n",
       "    }\n",
       "\n",
       "    .dataframe thead th {\n",
       "        text-align: right;\n",
       "    }\n",
       "</style>\n",
       "<table border=\"1\" class=\"dataframe\">\n",
       "  <thead>\n",
       "    <tr style=\"text-align: right;\">\n",
       "      <th></th>\n",
       "      <th>5162</th>\n",
       "      <th>2107</th>\n",
       "    </tr>\n",
       "  </thead>\n",
       "  <tbody>\n",
       "    <tr>\n",
       "      <th>budget</th>\n",
       "      <td>10</td>\n",
       "      <td>18000000</td>\n",
       "    </tr>\n",
       "    <tr>\n",
       "      <th>revenue</th>\n",
       "      <td>5</td>\n",
       "      <td>871279</td>\n",
       "    </tr>\n",
       "    <tr>\n",
       "      <th>original_title</th>\n",
       "      <td>Kid's Story</td>\n",
       "      <td>Carlos</td>\n",
       "    </tr>\n",
       "    <tr>\n",
       "      <th>cast</th>\n",
       "      <td>Clayton Watson|Keanu Reeves|Carrie-Anne Moss|K...</td>\n",
       "      <td>Edgar RamÃ­rez|Alexander Scheer|Fadi Abi Samra...</td>\n",
       "    </tr>\n",
       "    <tr>\n",
       "      <th>director</th>\n",
       "      <td>Shinichiro Watanabe</td>\n",
       "      <td>Olivier Assayas</td>\n",
       "    </tr>\n",
       "    <tr>\n",
       "      <th>tagline</th>\n",
       "      <td>NaN</td>\n",
       "      <td>The man who hijacked the world</td>\n",
       "    </tr>\n",
       "    <tr>\n",
       "      <th>runtime</th>\n",
       "      <td>15</td>\n",
       "      <td>338</td>\n",
       "    </tr>\n",
       "    <tr>\n",
       "      <th>genres</th>\n",
       "      <td>Science Fiction|Animation</td>\n",
       "      <td>Crime|Drama|Thriller|History</td>\n",
       "    </tr>\n",
       "    <tr>\n",
       "      <th>release_date</th>\n",
       "      <td>2003-06-02 00:00:00</td>\n",
       "      <td>2010-05-19 00:00:00</td>\n",
       "    </tr>\n",
       "    <tr>\n",
       "      <th>release_year</th>\n",
       "      <td>2003</td>\n",
       "      <td>2010</td>\n",
       "    </tr>\n",
       "    <tr>\n",
       "      <th>profit_earned</th>\n",
       "      <td>-5</td>\n",
       "      <td>-17128721</td>\n",
       "    </tr>\n",
       "  </tbody>\n",
       "</table>\n",
       "</div>"
      ],
      "text/plain": [
       "                                                             5162  \\\n",
       "budget                                                         10   \n",
       "revenue                                                         5   \n",
       "original_title                                        Kid's Story   \n",
       "cast            Clayton Watson|Keanu Reeves|Carrie-Anne Moss|K...   \n",
       "director                                      Shinichiro Watanabe   \n",
       "tagline                                                       NaN   \n",
       "runtime                                                        15   \n",
       "genres                                  Science Fiction|Animation   \n",
       "release_date                                  2003-06-02 00:00:00   \n",
       "release_year                                                 2003   \n",
       "profit_earned                                                  -5   \n",
       "\n",
       "                                                             2107  \n",
       "budget                                                   18000000  \n",
       "revenue                                                    871279  \n",
       "original_title                                             Carlos  \n",
       "cast            Edgar RamÃ­rez|Alexander Scheer|Fadi Abi Samra...  \n",
       "director                                          Olivier Assayas  \n",
       "tagline                            The man who hijacked the world  \n",
       "runtime                                                       338  \n",
       "genres                               Crime|Drama|Thriller|History  \n",
       "release_date                                  2010-05-19 00:00:00  \n",
       "release_year                                                 2010  \n",
       "profit_earned                                           -17128721  "
      ]
     },
     "execution_count": 18,
     "metadata": {},
     "output_type": "execute_result"
    }
   ],
   "source": [
    "# use \"calculate(column)\" function do do this analysis\n",
    "calculate('runtime')"
   ]
  },
  {
   "cell_type": "markdown",
   "id": "blocked-fifty",
   "metadata": {},
   "source": [
    "- We observed that column with id 5162 shows the shortest runtime with 15 mins, and column with id 2107 shows the longest runtime with 338 mins"
   ]
  },
  {
   "cell_type": "markdown",
   "id": "fewer-handle",
   "metadata": {},
   "source": [
    "### Research Question 4 : Movies with most and least revenue"
   ]
  },
  {
   "cell_type": "code",
   "execution_count": 19,
   "id": "considered-brain",
   "metadata": {},
   "outputs": [
    {
     "data": {
      "text/html": [
       "<div>\n",
       "<style scoped>\n",
       "    .dataframe tbody tr th:only-of-type {\n",
       "        vertical-align: middle;\n",
       "    }\n",
       "\n",
       "    .dataframe tbody tr th {\n",
       "        vertical-align: top;\n",
       "    }\n",
       "\n",
       "    .dataframe thead th {\n",
       "        text-align: right;\n",
       "    }\n",
       "</style>\n",
       "<table border=\"1\" class=\"dataframe\">\n",
       "  <thead>\n",
       "    <tr style=\"text-align: right;\">\n",
       "      <th></th>\n",
       "      <th>5067</th>\n",
       "      <th>1386</th>\n",
       "    </tr>\n",
       "  </thead>\n",
       "  <tbody>\n",
       "    <tr>\n",
       "      <th>budget</th>\n",
       "      <td>6000000</td>\n",
       "      <td>237000000</td>\n",
       "    </tr>\n",
       "    <tr>\n",
       "      <th>revenue</th>\n",
       "      <td>2</td>\n",
       "      <td>2781505847</td>\n",
       "    </tr>\n",
       "    <tr>\n",
       "      <th>original_title</th>\n",
       "      <td>Shattered Glass</td>\n",
       "      <td>Avatar</td>\n",
       "    </tr>\n",
       "    <tr>\n",
       "      <th>cast</th>\n",
       "      <td>Hayden Christensen|Peter Sarsgaard|ChloÃ« Sevi...</td>\n",
       "      <td>Sam Worthington|Zoe Saldana|Sigourney Weaver|S...</td>\n",
       "    </tr>\n",
       "    <tr>\n",
       "      <th>director</th>\n",
       "      <td>Billy Ray</td>\n",
       "      <td>James Cameron</td>\n",
       "    </tr>\n",
       "    <tr>\n",
       "      <th>tagline</th>\n",
       "      <td>NaN</td>\n",
       "      <td>Enter the World of Pandora.</td>\n",
       "    </tr>\n",
       "    <tr>\n",
       "      <th>runtime</th>\n",
       "      <td>94</td>\n",
       "      <td>162</td>\n",
       "    </tr>\n",
       "    <tr>\n",
       "      <th>genres</th>\n",
       "      <td>Drama|History</td>\n",
       "      <td>Action|Adventure|Fantasy|Science Fiction</td>\n",
       "    </tr>\n",
       "    <tr>\n",
       "      <th>release_date</th>\n",
       "      <td>2003-11-14 00:00:00</td>\n",
       "      <td>2009-12-10 00:00:00</td>\n",
       "    </tr>\n",
       "    <tr>\n",
       "      <th>release_year</th>\n",
       "      <td>2003</td>\n",
       "      <td>2009</td>\n",
       "    </tr>\n",
       "    <tr>\n",
       "      <th>profit_earned</th>\n",
       "      <td>-5999998</td>\n",
       "      <td>2544505847</td>\n",
       "    </tr>\n",
       "  </tbody>\n",
       "</table>\n",
       "</div>"
      ],
      "text/plain": [
       "                                                             5067  \\\n",
       "budget                                                    6000000   \n",
       "revenue                                                         2   \n",
       "original_title                                    Shattered Glass   \n",
       "cast            Hayden Christensen|Peter Sarsgaard|ChloÃ« Sevi...   \n",
       "director                                                Billy Ray   \n",
       "tagline                                                       NaN   \n",
       "runtime                                                        94   \n",
       "genres                                              Drama|History   \n",
       "release_date                                  2003-11-14 00:00:00   \n",
       "release_year                                                 2003   \n",
       "profit_earned                                            -5999998   \n",
       "\n",
       "                                                             1386  \n",
       "budget                                                  237000000  \n",
       "revenue                                                2781505847  \n",
       "original_title                                             Avatar  \n",
       "cast            Sam Worthington|Zoe Saldana|Sigourney Weaver|S...  \n",
       "director                                            James Cameron  \n",
       "tagline                               Enter the World of Pandora.  \n",
       "runtime                                                       162  \n",
       "genres                   Action|Adventure|Fantasy|Science Fiction  \n",
       "release_date                                  2009-12-10 00:00:00  \n",
       "release_year                                                 2009  \n",
       "profit_earned                                          2544505847  "
      ]
     },
     "execution_count": 19,
     "metadata": {},
     "output_type": "execute_result"
    }
   ],
   "source": [
    "# use \"calculate(column)\" function do do this analysis\n",
    "calculate('revenue')"
   ]
  },
  {
   "cell_type": "markdown",
   "id": "suffering-mouth",
   "metadata": {},
   "source": [
    "- We observed that column with id 5067 shows the smallest earned revenue with 2 dollar , and column with id 1386 shows the largest earned revenue with 2781505847 dollar"
   ]
  },
  {
   "cell_type": "markdown",
   "id": "coated-module",
   "metadata": {},
   "source": [
    "### Research Question 5 : Average runtime for movies "
   ]
  },
  {
   "cell_type": "code",
   "execution_count": 20,
   "id": "demonstrated-williams",
   "metadata": {},
   "outputs": [
    {
     "data": {
      "text/plain": [
       "109.22029060716139"
      ]
     },
     "execution_count": 20,
     "metadata": {},
     "output_type": "execute_result"
    }
   ],
   "source": [
    "df.runtime.mean()"
   ]
  },
  {
   "cell_type": "markdown",
   "id": "proved-alloy",
   "metadata": {},
   "source": [
    "#### Average runtime for all movies 109 mins , so that let's visualize it "
   ]
  },
  {
   "cell_type": "code",
   "execution_count": 21,
   "id": "dried-morning",
   "metadata": {},
   "outputs": [
    {
     "data": {
      "image/png": "[encoded data removed]",
      "text/plain": [
       "<Figure size 576x360 with 1 Axes>"
      ]
     },
     "metadata": {
      "needs_background": "light"
     },
     "output_type": "display_data"
    }
   ],
   "source": [
    "plt.figure(figsize = (8,5))\n",
    "plt.hist(df['runtime'],rwidth = 0.9,bins = 40)\n",
    "plt.xlabel('Runtime Of The Movies', fontsize=15)\n",
    "plt.ylabel('#Movies', fontsize=20)\n",
    "plt.title('Runtime Of All Movies', fontsize = 20 );\n"
   ]
  },
  {
   "cell_type": "code",
   "execution_count": 22,
   "id": "entitled-colors",
   "metadata": {},
   "outputs": [
    {
     "data": {
      "text/plain": [
       "count    3854.000000\n",
       "mean      109.220291\n",
       "std        19.922820\n",
       "min        15.000000\n",
       "25%        95.000000\n",
       "50%       106.000000\n",
       "75%       119.000000\n",
       "max       338.000000\n",
       "Name: runtime, dtype: float64"
      ]
     },
     "execution_count": 22,
     "metadata": {},
     "output_type": "execute_result"
    }
   ],
   "source": [
    "df.runtime.describe()"
   ]
  },
  {
   "cell_type": "markdown",
   "id": "large-elevation",
   "metadata": {},
   "source": [
    "##### From the Plot we observed that most movies timed between 80 to 115 mins , it is about 800 movies fall in this criteria.\n",
    "##### From the plot and calculations we cand conclude that : \n",
    "-  1- 25% of movies have runtime less than 95 mins.\n",
    "-  2- 50% of movies have runtime less than 109 mins.\n",
    "-  3- 75% of movies have runtime less than 338 mins"
   ]
  },
  {
   "cell_type": "markdown",
   "id": "preliminary-handy",
   "metadata": {},
   "source": [
    "### Research Question 6 :  In which year we had most number of profitable movies?"
   ]
  },
  {
   "cell_type": "code",
   "execution_count": 23,
   "id": "alternate-thought",
   "metadata": {},
   "outputs": [
    {
     "data": {
      "image/png": "[encoded data removed]",
      "text/plain": [
       "<Figure size 720x432 with 1 Axes>"
      ]
     },
     "metadata": {
      "needs_background": "light"
     },
     "output_type": "display_data"
    }
   ],
   "source": [
    "profits_over_years = df.groupby('release_year')['profit_earned'].sum()\n",
    "plt.figure(figsize=(10,6))\n",
    "plt.plot(profits_over_years)\n",
    "plt.xlabel('Release Years Of Movies',fontsize = 18)\n",
    "plt.ylabel('Profits Earned By Movies ' , fontsize = 15)\n",
    "plt.title('Representing Of Total Profite Earned By All Movies Over Years', fontsize = 15);\n"
   ]
  },
  {
   "cell_type": "code",
   "execution_count": 24,
   "id": "entitled-shape",
   "metadata": {},
   "outputs": [
    {
     "data": {
      "text/plain": [
       "2015"
      ]
     },
     "execution_count": 24,
     "metadata": {},
     "output_type": "execute_result"
    }
   ],
   "source": [
    "#to find the year of highest profit\n",
    "profits_over_years.idxmax()"
   ]
  },
  {
   "cell_type": "markdown",
   "id": "unlimited-issue",
   "metadata": {},
   "source": [
    "##### So That we observed form plot and calculation that the year 2015 was the year where movies made the highest profit .\n"
   ]
  },
  {
   "cell_type": "markdown",
   "id": "outdoor-library",
   "metadata": {},
   "source": [
    "### Now we will analyze our data respect to the profits \n",
    " - to analyze profitable movies we will take movies that accomplish ocer 50000000"
   ]
  },
  {
   "cell_type": "code",
   "execution_count": 25,
   "id": "built-trinity",
   "metadata": {},
   "outputs": [
    {
     "data": {
      "text/html": [
       "<div>\n",
       "<style scoped>\n",
       "    .dataframe tbody tr th:only-of-type {\n",
       "        vertical-align: middle;\n",
       "    }\n",
       "\n",
       "    .dataframe tbody tr th {\n",
       "        vertical-align: top;\n",
       "    }\n",
       "\n",
       "    .dataframe thead th {\n",
       "        text-align: right;\n",
       "    }\n",
       "</style>\n",
       "<table border=\"1\" class=\"dataframe\">\n",
       "  <thead>\n",
       "    <tr style=\"text-align: right;\">\n",
       "      <th></th>\n",
       "      <th>budget</th>\n",
       "      <th>revenue</th>\n",
       "      <th>original_title</th>\n",
       "      <th>cast</th>\n",
       "      <th>director</th>\n",
       "      <th>tagline</th>\n",
       "      <th>runtime</th>\n",
       "      <th>genres</th>\n",
       "      <th>release_date</th>\n",
       "      <th>release_year</th>\n",
       "      <th>profit_earned</th>\n",
       "    </tr>\n",
       "  </thead>\n",
       "  <tbody>\n",
       "    <tr>\n",
       "      <th>1334</th>\n",
       "      <td>20000000</td>\n",
       "      <td>187884007</td>\n",
       "      <td>Jaws 2</td>\n",
       "      <td>Roy Scheider|Lorraine Gary|Murray Hamilton|Jos...</td>\n",
       "      <td>Jeannot Szwarc</td>\n",
       "      <td>Just when you thought it was safe to go back i...</td>\n",
       "      <td>116</td>\n",
       "      <td>Horror|Thriller</td>\n",
       "      <td>1978-06-16</td>\n",
       "      <td>1978</td>\n",
       "      <td>167884007</td>\n",
       "    </tr>\n",
       "    <tr>\n",
       "      <th>1335</th>\n",
       "      <td>650000</td>\n",
       "      <td>55000000</td>\n",
       "      <td>Dawn of the Dead</td>\n",
       "      <td>David Emge|Ken Foree|Scott H. Reiniger|Gaylen ...</td>\n",
       "      <td>George A. Romero</td>\n",
       "      <td>When there's no more room in hell, the dead wi...</td>\n",
       "      <td>127</td>\n",
       "      <td>Horror</td>\n",
       "      <td>1978-09-02</td>\n",
       "      <td>1978</td>\n",
       "      <td>54350000</td>\n",
       "    </tr>\n",
       "    <tr>\n",
       "      <th>1336</th>\n",
       "      <td>55000000</td>\n",
       "      <td>300218018</td>\n",
       "      <td>Superman</td>\n",
       "      <td>Marlon Brando|Gene Hackman|Christopher Reeve|N...</td>\n",
       "      <td>Richard Donner</td>\n",
       "      <td>You'll Believe a Man Can Fly!</td>\n",
       "      <td>143</td>\n",
       "      <td>Adventure|Fantasy|Action|Science Fiction</td>\n",
       "      <td>1978-12-14</td>\n",
       "      <td>1978</td>\n",
       "      <td>245218018</td>\n",
       "    </tr>\n",
       "    <tr>\n",
       "      <th>1337</th>\n",
       "      <td>300000</td>\n",
       "      <td>70000000</td>\n",
       "      <td>Halloween</td>\n",
       "      <td>Donald Pleasence|Jamie Lee Curtis|P.J. Soles|N...</td>\n",
       "      <td>John Carpenter</td>\n",
       "      <td>The Night HE Came Home!</td>\n",
       "      <td>91</td>\n",
       "      <td>Horror|Thriller</td>\n",
       "      <td>1978-10-25</td>\n",
       "      <td>1978</td>\n",
       "      <td>69700000</td>\n",
       "    </tr>\n",
       "    <tr>\n",
       "      <th>1338</th>\n",
       "      <td>2700000</td>\n",
       "      <td>141000000</td>\n",
       "      <td>Animal House</td>\n",
       "      <td>John Belushi|Tim Matheson|John Vernon|Verna Bl...</td>\n",
       "      <td>John Landis</td>\n",
       "      <td>It was the Deltas against the rules... the rul...</td>\n",
       "      <td>109</td>\n",
       "      <td>Comedy</td>\n",
       "      <td>1978-07-27</td>\n",
       "      <td>1978</td>\n",
       "      <td>138300000</td>\n",
       "    </tr>\n",
       "  </tbody>\n",
       "</table>\n",
       "</div>"
      ],
      "text/plain": [
       "        budget    revenue    original_title  \\\n",
       "1334  20000000  187884007            Jaws 2   \n",
       "1335    650000   55000000  Dawn of the Dead   \n",
       "1336  55000000  300218018          Superman   \n",
       "1337    300000   70000000         Halloween   \n",
       "1338   2700000  141000000      Animal House   \n",
       "\n",
       "                                                   cast          director  \\\n",
       "1334  Roy Scheider|Lorraine Gary|Murray Hamilton|Jos...    Jeannot Szwarc   \n",
       "1335  David Emge|Ken Foree|Scott H. Reiniger|Gaylen ...  George A. Romero   \n",
       "1336  Marlon Brando|Gene Hackman|Christopher Reeve|N...    Richard Donner   \n",
       "1337  Donald Pleasence|Jamie Lee Curtis|P.J. Soles|N...    John Carpenter   \n",
       "1338  John Belushi|Tim Matheson|John Vernon|Verna Bl...       John Landis   \n",
       "\n",
       "                                                tagline  runtime  \\\n",
       "1334  Just when you thought it was safe to go back i...      116   \n",
       "1335  When there's no more room in hell, the dead wi...      127   \n",
       "1336                      You'll Believe a Man Can Fly!      143   \n",
       "1337                            The Night HE Came Home!       91   \n",
       "1338  It was the Deltas against the rules... the rul...      109   \n",
       "\n",
       "                                        genres release_date  release_year  \\\n",
       "1334                           Horror|Thriller   1978-06-16          1978   \n",
       "1335                                    Horror   1978-09-02          1978   \n",
       "1336  Adventure|Fantasy|Action|Science Fiction   1978-12-14          1978   \n",
       "1337                           Horror|Thriller   1978-10-25          1978   \n",
       "1338                                    Comedy   1978-07-27          1978   \n",
       "\n",
       "      profit_earned  \n",
       "1334      167884007  \n",
       "1335       54350000  \n",
       "1336      245218018  \n",
       "1337       69700000  \n",
       "1338      138300000  "
      ]
     },
     "execution_count": 25,
     "metadata": {},
     "output_type": "execute_result"
    }
   ],
   "source": [
    "profit_data = df[df['profit_earned']>=50000000]\n",
    "profit_data.index = range(len(profit_data))\n",
    "profit_data.index = profit_data.index+1\n",
    "profit_data.tail()"
   ]
  },
  {
   "cell_type": "markdown",
   "id": "hearing-bulletin",
   "metadata": {},
   "source": [
    "### Research Question 7 : Successful Genres"
   ]
  },
  {
   "cell_type": "code",
   "execution_count": 26,
   "id": "polish-clear",
   "metadata": {},
   "outputs": [
    {
     "data": {
      "text/plain": [
       "Comedy       492\n",
       "Drama        481\n",
       "Action       464\n",
       "Thriller     405\n",
       "Adventure    379\n",
       "dtype: int64"
      ]
     },
     "execution_count": 26,
     "metadata": {},
     "output_type": "execute_result"
    }
   ],
   "source": [
    "\n",
    "#function which will take any column as argument from and keep its track \n",
    "def data(column):\n",
    "    data = profit_data[column].str.cat(sep='|')\n",
    "    data = pd.Series(data.split('|'))\n",
    "    count = data.value_counts(ascending = False)\n",
    "    return count\n",
    "\n",
    "genre = data('genres')\n",
    "genre.head()"
   ]
  },
  {
   "cell_type": "code",
   "execution_count": 27,
   "id": "alert-saint",
   "metadata": {},
   "outputs": [
    {
     "data": {
      "image/png": "[encoded data removed]",
      "text/plain": [
       "<Figure size 648x432 with 1 Axes>"
      ]
     },
     "metadata": {
      "needs_background": "light"
     },
     "output_type": "display_data"
    }
   ],
   "source": [
    "genre.sort_values(ascending = True,inplace =True)\n",
    "x = genre.plot.barh(fontsize=13)\n",
    "x.set(title = 'Most Genres Successful')\n",
    "x.set_xlabel('# Of Movies In Dataset', fontsize=15)\n",
    "x.figure.set_size_inches(9,6)"
   ]
  },
  {
   "cell_type": "markdown",
   "id": "representative-period",
   "metadata": {},
   "source": [
    "- From calculations and previous plot we observed that comedy is the most successful genre of movies with 492 movie followed by Drama with 481 movies and action with 464"
   ]
  },
  {
   "cell_type": "markdown",
   "id": "suspended-destination",
   "metadata": {},
   "source": [
    "### Research Question 7 : Most Frequent Cast"
   ]
  },
  {
   "cell_type": "code",
   "execution_count": 32,
   "id": "starting-tractor",
   "metadata": {},
   "outputs": [
    {
     "data": {
      "text/plain": [
       "Tom Cruise            27\n",
       "Brad Pitt             25\n",
       "Tom Hanks             22\n",
       "Sylvester Stallone    21\n",
       "Cameron Diaz          20\n",
       "dtype: int64"
      ]
     },
     "execution_count": 32,
     "metadata": {},
     "output_type": "execute_result"
    }
   ],
   "source": [
    "casts = data('cast')\n",
    "casts.head()"
   ]
  },
  {
   "cell_type": "markdown",
   "id": "three-patrol",
   "metadata": {},
   "source": [
    "- From our analysis we observed that Tom Cruise is on the top with total 27 cast followed by Brad Pitt with 25 cast and Tom Hanks with 22 cast."
   ]
  },
  {
   "cell_type": "markdown",
   "id": "growing-scheduling",
   "metadata": {},
   "source": [
    "### Research Question 8 :  Average budget and average revenue"
   ]
  },
  {
   "cell_type": "code",
   "execution_count": 33,
   "id": "honey-citation",
   "metadata": {},
   "outputs": [
    {
     "data": {
      "text/plain": [
       "60444957.76083707"
      ]
     },
     "execution_count": 33,
     "metadata": {},
     "output_type": "execute_result"
    }
   ],
   "source": [
    "profit_data['budget'].mean()"
   ]
  },
  {
   "cell_type": "code",
   "execution_count": 34,
   "id": "friendly-bibliography",
   "metadata": {},
   "outputs": [
    {
     "data": {
      "text/plain": [
       "254957662.59491777"
      ]
     },
     "execution_count": 34,
     "metadata": {},
     "output_type": "execute_result"
    }
   ],
   "source": [
    "profit_data['revenue'].mean()"
   ]
  },
  {
   "cell_type": "markdown",
   "id": "defined-brunswick",
   "metadata": {},
   "source": [
    "- We Observed that movies which have profit 50 million dollar and more , have average budget of 60 million dolla and average revenue of 255 million dollar"
   ]
  },
  {
   "cell_type": "markdown",
   "id": "median-plane",
   "metadata": {},
   "source": [
    "### Research Question 9 :  Average duration of the movie"
   ]
  },
  {
   "cell_type": "code",
   "execution_count": 35,
   "id": "desperate-character",
   "metadata": {},
   "outputs": [
    {
     "data": {
      "text/plain": [
       "113.66741405082212"
      ]
     },
     "execution_count": 35,
     "metadata": {},
     "output_type": "execute_result"
    }
   ],
   "source": [
    "profit_data['runtime'].mean()"
   ]
  },
  {
   "cell_type": "markdown",
   "id": "artistic-passenger",
   "metadata": {},
   "source": [
    "- We Observed that average duration of movies that have profit 50 million dollar and more is 114 mins"
   ]
  },
  {
   "cell_type": "markdown",
   "id": "transparent-printer",
   "metadata": {},
   "source": [
    "# Conclusion\n",
    "\n",
    " ##### This was a very interesting data analysis . We came out with some impacted facts about movies .\n",
    " \n",
    " ### For a successful movie it should be follow the following :\n",
    " \n",
    " 1- Genres must be : Comedy, Drama, Action, Thriller, Adventure.\n",
    " \n",
    " 2- Any Of those actors should be in the cast : Tom Cruise, Brad Pitt, Tom Hanks, Sylvester Stallone, Cameron Diaz.\n",
    " \n",
    " 3- Average budget must be around 60 million dollar.\n",
    " \n",
    " 4- Average duration of the movie must be 114 mins.\n",
    " \n",
    "## Limitation\n",
    "\n",
    "  1- we have used TMDb movies data set for our analysis and using popularity ,revenue and budget . We not confident that data set which we provided is up to date or all data is completly correct.\n",
    "  \n",
    "  2- There is no currency conversion is considered during this analysis , and our analysis is limited on numerical values of revenue and budget.\n",
    "  \n",
    "  3- Dropping missing or null values from variables may skew our analysis and show unintentional bias towards the relationship being analyzed."
   ]
  },
  {
   "cell_type": "code",
   "execution_count": null,
   "id": "anonymous-canyon",
   "metadata": {},
   "outputs": [],
   "source": []
  }
 ],
 "metadata": {
  "kernelspec": {
   "display_name": "Python [conda env:tea_facts] *",
   "language": "python",
   "name": "conda-env-tea_facts-py"
  },
  "language_info": {
   "codemirror_mode": {
    "name": "ipython",
    "version": 3
   },
   "file_extension": ".py",
   "mimetype": "text/x-python",
   "name": "python",
   "nbconvert_exporter": "python",
   "pygments_lexer": "ipython3",
   "version": "3.8.5"
  }
 },
 "nbformat": 4,
 "nbformat_minor": 5
}
